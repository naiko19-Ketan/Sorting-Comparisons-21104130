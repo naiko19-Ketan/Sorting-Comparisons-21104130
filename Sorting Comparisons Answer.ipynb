{
 "cells": [
  {
   "cell_type": "markdown",
   "metadata": {},
   "source": [
    "# Assignment Sorting Comparisons\n",
    "### Question :- \n",
    "\n",
    "Compare Bubble sort and Selection sort based on the following:\n",
    "\n",
    "            1. Number of comparisons\n",
    "            2. Number of swaps\n",
    "            3. Inplace and Outplace implementations"
   ]
  },
  {
   "cell_type": "code",
   "execution_count": 24,
   "metadata": {},
   "outputs": [
    {
     "name": "stdout",
     "output_type": "stream",
     "text": [
      "Number of comparisons are : 300 \n",
      "Number of swaps are : 25\n",
      "Sorted Array in Ascending Order:\n",
      "[-50, -48, -42, -41, -34, -34, -25, -23, -15, -1, 13, 14, 15, 26, 34, 34, 36, 42, 48, 50, 50, 65, 72, 82, 87]\n"
     ]
    }
   ],
   "source": [
    "def selectionSort(array, size):\n",
    "    comparisons=0\n",
    "    swaps=0\n",
    "    for step in range(size):\n",
    "        min_idx = step\n",
    "        \n",
    "        for i in range(step + 1, size):\n",
    "         \n",
    "            comparisons+=1\n",
    "            if array[i] < array[min_idx]:\n",
    "                min_idx = i\n",
    "                \n",
    "        (array[step], array[min_idx]) = (array[min_idx], array[step])\n",
    "        swaps+=1\n",
    "        \n",
    "    print(\"Number of comparisons are :\",comparisons,\"\\nNumber of swaps are :\",swaps)\n",
    "\n",
    "data = [-42,  65,  -1, -23,  48,  26,  15,  36,  34,  13, -25,  34, -34,\n",
    "       -50, -34,  82,  14,  50, -48,  50,  87, -15,  42, -41,  72]\n",
    "size = len(data)\n",
    "selectionSort(data, size)\n",
    "print('Sorted Array in Ascending Order:')\n",
    "print(data)\n"
   ]
  },
  {
   "cell_type": "code",
   "execution_count": 23,
   "metadata": {},
   "outputs": [
    {
     "name": "stdout",
     "output_type": "stream",
     "text": [
      "Number of comparisons are : 300 \n",
      "Number of swaps are : 138\n",
      "Sorted Array in Ascending Order:\n",
      "[-50, -48, -42, -41, -34, -34, -25, -23, -15, -1, 13, 14, 15, 26, 34, 34, 36, 42, 48, 50, 50, 65, 72, 82, 87]\n"
     ]
    }
   ],
   "source": [
    "def bubbleSort(array):\n",
    "  comparisons,swaps=0,0  \n",
    "  \n",
    "  for i in range(len(array)):\n",
    "\n",
    "    \n",
    "    for j in range(0, len(array) - i - 1):\n",
    "\n",
    "      \n",
    "      comparisons+=1\n",
    "      if array[j] > array[j + 1]:\n",
    "\n",
    "        temp = array[j]\n",
    "        array[j] = array[j+1]\n",
    "        array[j+1] = temp\n",
    "        swaps+=1\n",
    "  print(\"Number of comparisons are :\",comparisons,\"\\nNumber of swaps are :\",swaps)\n",
    "\n",
    "data = [-42,  65,  -1, -23,  48,  26,  15,  36,  34,  13, -25,  34, -34,\n",
    "       -50, -34,  82,  14,  50, -48,  50,  87, -15,  42, -41,  72]\n",
    "\n",
    "bubbleSort(data)\n",
    "print('Sorted Array in Ascending Order:')\n",
    "print(data)"
   ]
  },
  {
   "cell_type": "markdown",
   "metadata": {},
   "source": [
    "### Answer:-\n",
    "\n",
    "As seen from the above implementation of code for both selection sort and bubble sort we see the differences between the two algorithm on basis of \n",
    "\n",
    "1. <ins>**Number of comparisons**</ins> : The number of comparisons for both the algorithm is same ,i.e,({n-1}+{n-2}+{n-3}+{n-4}..................+1), where n is size of array .\n",
    "\n",
    "2. <ins>**Number of swaps**</ins> : The number of swaps in selection sort are very few in comparison to bubble sort as in selection sort, the minimum element is selected from the array and swap with an element which is at the beginning of the unsorted sub array whereas in bubble sort, two adjacent elements are compared. If the adjacent elements are not at the correct position, swapping would be performed.\n",
    "3. <ins>**Inplace and Outplace Implementations**</ins> : Both Algorithms are In-place algorithms as they do not consume any extra memory and modify orignal array to sort it in ascending or descending order."
   ]
  }
 ],
 "metadata": {
  "kernelspec": {
   "display_name": "Python 3.10.5 64-bit",
   "language": "python",
   "name": "python3"
  },
  "language_info": {
   "codemirror_mode": {
    "name": "ipython",
    "version": 3
   },
   "file_extension": ".py",
   "mimetype": "text/x-python",
   "name": "python",
   "nbconvert_exporter": "python",
   "pygments_lexer": "ipython3",
   "version": "3.10.5"
  },
  "orig_nbformat": 4,
  "vscode": {
   "interpreter": {
    "hash": "a9cff5a362bc38ef45d817ae74b1af54d6a076e3d773891282bce078b815ba34"
   }
  }
 },
 "nbformat": 4,
 "nbformat_minor": 2
}
